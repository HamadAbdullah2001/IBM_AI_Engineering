{
 "cells": [
  {
   "cell_type": "markdown",
   "id": "ec8bacf7-7929-4c25-a072-57078a9781a6",
   "metadata": {},
   "source": [
    "<a href=\"https://cognitiveclass.ai/?utm_medium=Exinfluencer&utm_source=Exinfluencer&utm_content=000026UJ&utm_term=10006555&utm_id=NA-SkillsNetwork-Channel-SkillsNetworkCoursesIBMDeveloperSkillsNetworkDL0101ENSkillsNetwork945-2022-01-01\"><img src=\"https://cf-courses-data.s3.us.cloud-object-storage.appdomain.cloud/IBMDeveloperSkillsNetwork-DL0101EN-SkillsNetwork/images/IDSN-logo.png\" width=\"400\"> </a>\n",
    "\n",
    "<h1 align=center><font size = 5>Convolutional Neural Networks with Keras</font></h1>\n"
   ]
  },
  {
   "cell_type": "markdown",
   "id": "076c4e44-6f8c-4e98-b201-27e8cc35427c",
   "metadata": {},
   "source": [
    "In this lab, we will learn how to use the Keras library to build convolutional neural networks. We will also use the popular MNIST dataset and we will compare our results to using a conventional neural network.\n"
   ]
  },
  {
   "cell_type": "markdown",
   "id": "c0af36d5-c39c-4db1-9abf-e6ae24b6d429",
   "metadata": {},
   "source": [
    "<h2>Convolutional Neural Networks with Keras</h2>\n",
    "\n",
    "<h3>Objective for this Notebook<h3>    \n",
    "<h5> 1. How to use the Keras library to build convolutional neural networks.</h5>\n",
    "<h5> 2. Convolutional Neural Network with One Convolutional and Pooling Layers.</h5>\n",
    "<h5> 3. Convolutional Neural Network with Two Convolutional and Pooling Layers.</h5>\n",
    "\n"
   ]
  },
  {
   "cell_type": "markdown",
   "id": "a145693f-77be-4698-9305-933d6541bed9",
   "metadata": {},
   "source": [
    "## Table of Contents\n",
    "\n",
    "<div class=\"alert alert-block alert-info\" style=\"margin-top: 20px\">\n",
    "\n",
    "<font size = 3>\n",
    "      \n",
    "1. <a href=\"#item41\">Import Keras and Packages</a>   \n",
    "2. <a href=\"#item42\">Convolutional Neural Network with One Convolutional and Pooling Layers</a>  \n",
    "3. <a href=\"#item43\">Convolutional Neural Network with Two Convolutional and Pooling Layers</a>  \n",
    "\n",
    "</font>\n",
    "</div>\n"
   ]
  },
  {
   "cell_type": "markdown",
   "id": "a9f28727-1324-4544-86e8-5dc44e72cc9e",
   "metadata": {},
   "source": [
    "<a id='item41'></a>\n"
   ]
  },
  {
   "cell_type": "markdown",
   "id": "fd1a9901-1ad1-44e2-8d7c-6abbc1d4c5fa",
   "metadata": {},
   "source": [
    "## Import Keras and Packages\n"
   ]
  },
  {
   "cell_type": "markdown",
   "id": "f4daa2c1-9de3-406c-8e5b-192095c7899a",
   "metadata": {},
   "source": [
    "Let's start by importing the keras libraries and the packages that we would need to build a neural network.\n"
   ]
  },
  {
   "cell_type": "code",
   "execution_count": 1,
   "id": "7f754a0a-5333-4ac6-b3db-8571b16421c7",
   "metadata": {},
   "outputs": [],
   "source": [
    "# All Libraries required for this lab are listed below. The libraries pre-installed on Skills Network Labs are commented. \n",
    "# If you run this notebook on a different environment, e.g. your desktop, you may need to uncomment and install certain libraries.\n",
    "\n",
    "#!pip install numpy==1.21.4\n",
    "#!pip install pandas==1.3.4\n",
    "#!pip install keras==2.1.6"
   ]
  },
  {
   "cell_type": "code",
   "execution_count": 57,
   "id": "caf13643-fbbb-4805-bca7-e7058b620f23",
   "metadata": {},
   "outputs": [],
   "source": [
    "import keras\n",
    "from keras.models import Sequential\n",
    "from keras.layers import Dense\n",
    "from keras.utils import to_categorical\n",
    "import numpy as np\n",
    "import pandas as pd"
   ]
  },
  {
   "cell_type": "markdown",
   "id": "6dbe4f53-8aba-4207-a65b-cc86be6ab692",
   "metadata": {},
   "source": [
    "When working with convolutional neural networks in particular, we will need additional packages.\n"
   ]
  },
  {
   "cell_type": "code",
   "execution_count": 58,
   "id": "76703d9c-3ebb-4120-9aa5-64e7b56f6df9",
   "metadata": {},
   "outputs": [],
   "source": [
    "from keras.layers.convolutional import Conv2D # to add convolutional layers\n",
    "from keras.layers.convolutional import MaxPooling2D # to add pooling layers\n",
    "from keras.layers import Flatten # to flatten data for fully connected layers"
   ]
  },
  {
   "cell_type": "markdown",
   "id": "28bec1ed-fae8-4523-9400-03f259b83118",
   "metadata": {},
   "source": [
    "<a id='item42'></a>\n"
   ]
  },
  {
   "cell_type": "markdown",
   "id": "8c2c6d4d-4199-4ac3-86fd-83d0af27b76b",
   "metadata": {},
   "source": [
    "## Convolutional Layer with One set of convolutional and pooling layers\n"
   ]
  },
  {
   "cell_type": "code",
   "execution_count": 68,
   "id": "0b926053-ed83-4419-9df6-bbafcfc7f2e2",
   "metadata": {},
   "outputs": [
    {
     "name": "stdout",
     "output_type": "stream",
     "text": [
      "X train shape : (60000, 28, 28)\n",
      "Y train shape : (60000,)\n",
      "X test shape  : (10000, 28, 28)\n",
      "Y test shape  : (10000,)\n",
      "\n",
      "Reshape X train and test to be [number of images][pixels][width][height]\n",
      "The X train and test data after reshaping :-\n",
      "X train shape : (60000, 28, 28, 1)\n",
      "X test shape  : (10000, 28, 28, 1)\n"
     ]
    }
   ],
   "source": [
    "# import data\n",
    "from keras.datasets import mnist\n",
    "\n",
    "# load data\n",
    "(X_train, y_train), (X_test, y_test) = mnist.load_data()\n",
    "\n",
    "print(f'X train shape : {X_train.shape}')\n",
    "print(f'Y train shape : {y_train.shape}')\n",
    "print(f'X test shape  : {X_test.shape}')\n",
    "print(f'Y test shape  : {y_test.shape}')\n",
    "print()\n",
    "\n",
    "# reshape to be [samples][pixels][width][height]\n",
    "X_train = X_train.reshape(X_train.shape[0], 28, 28, 1).astype('float32')\n",
    "X_test = X_test.reshape(X_test.shape[0], 28, 28, 1).astype('float32')\n",
    "\n",
    "print('Reshape X train and test to be [number of images][pixels][width][height]')\n",
    "print('The X train and test data after reshaping :-')\n",
    "print(f'X train shape : {X_train.shape}')\n",
    "print(f'X test shape  : {X_test.shape}')"
   ]
  },
  {
   "cell_type": "markdown",
   "id": "75bfc804-4b7e-4ce6-b5e8-3ddab966108d",
   "metadata": {},
   "source": [
    "Let's normalize the pixel values to be between 0 and 1\n"
   ]
  },
  {
   "cell_type": "code",
   "execution_count": 69,
   "id": "8cd56d94-762f-4a2b-8116-6f04313c5228",
   "metadata": {},
   "outputs": [
    {
     "name": "stdout",
     "output_type": "stream",
     "text": [
      "The maximum number of X train dataset is : 255.0\n",
      "The minimum number of X train dataset is : 0.0\n",
      "The mean number    of X train dataset is : 33.31844711303711\n",
      "The maximum number of X test dataset is  : 255.0\n",
      "The minimum number of X test dataset is  : 0.0\n",
      "The mean number    of X test dataset is  : 33.79124069213867\n",
      "\n",
      "We need to normalize the datasets, to make the pixel values between 0 and 1.\n",
      "\n",
      "The datasets after normalization :-\n",
      "The maximum number of X train dataset is : 1.0\n",
      "The minimum number of X train dataset is : 0.0\n",
      "The mean number    of X train dataset is : 0.13066062331199646\n",
      "The maximum number of X test dataset is  : 1.0\n",
      "The minimum number of X test dataset is  : 0.0\n",
      "The mean number    of X test dataset is  : 0.13251467049121857\n"
     ]
    }
   ],
   "source": [
    "print(f'The maximum number of X train dataset is : {X_train.max()}')\n",
    "print(f'The minimum number of X train dataset is : {X_train.min()}')\n",
    "print(f'The mean number    of X train dataset is : {X_train.mean()}')\n",
    "print(f'The maximum number of X test dataset is  : {X_test.max()}')\n",
    "print(f'The minimum number of X test dataset is  : {X_test.min()}')\n",
    "print(f'The mean number    of X test dataset is  : {X_test.mean()}')\n",
    "print()\n",
    "\n",
    "print('We need to normalize the datasets, to make the pixel values between 0 and 1.')\n",
    "X_train = X_train / 255 # normalize training data\n",
    "X_test = X_test / 255 # normalize test data\n",
    "\n",
    "print('\\nThe datasets after normalization :-')\n",
    "print(f'The maximum number of X train dataset is : {X_train.max()}')\n",
    "print(f'The minimum number of X train dataset is : {X_train.min()}')\n",
    "print(f'The mean number    of X train dataset is : {X_train.mean()}')\n",
    "print(f'The maximum number of X test dataset is  : {X_test.max()}')\n",
    "print(f'The minimum number of X test dataset is  : {X_test.min()}')\n",
    "print(f'The mean number    of X test dataset is  : {X_test.mean()}')"
   ]
  },
  {
   "cell_type": "markdown",
   "id": "6e10086d-2c0e-481e-b136-47ce17d7bd47",
   "metadata": {},
   "source": [
    "Next, let's convert the target variable into binary categories\n"
   ]
  },
  {
   "cell_type": "code",
   "execution_count": 70,
   "metadata": {},
   "outputs": [
    {
     "name": "stdout",
     "output_type": "stream",
     "text": [
      "Y train classes and their counts :-\n",
      "[[   0 5923]\n",
      " [   1 6742]\n",
      " [   2 5958]\n",
      " [   3 6131]\n",
      " [   4 5842]\n",
      " [   5 5421]\n",
      " [   6 5918]\n",
      " [   7 6265]\n",
      " [   8 5851]\n",
      " [   9 5949]]\n",
      "\n",
      "Y test classes and their counts :-\n",
      "[[   0  980]\n",
      " [   1 1135]\n",
      " [   2 1032]\n",
      " [   3 1010]\n",
      " [   4  982]\n",
      " [   5  892]\n",
      " [   6  958]\n",
      " [   7 1028]\n",
      " [   8  974]\n",
      " [   9 1009]]\n"
     ]
    }
   ],
   "source": [
    "unique, counts = np.unique(y_train, return_counts=True)\n",
    "print('Y train classes and their counts :-')\n",
    "print(np.asarray((unique, counts)).T)\n",
    "\n",
    "print()\n",
    "\n",
    "print('Y test classes and their counts :-')\n",
    "unique, counts = np.unique(y_test, return_counts=True)\n",
    "print(np.asarray((unique, counts)).T)"
   ]
  },
  {
   "cell_type": "code",
   "execution_count": 71,
   "id": "3a368493-3d57-47f8-a735-7807ba675e3d",
   "metadata": {},
   "outputs": [
    {
     "name": "stdout",
     "output_type": "stream",
     "text": [
      "One hot encoding to Y train and test :-\n",
      "\n",
      "Y train after encoding :-\n",
      "[[0. 0. 0. ... 0. 0. 0.]\n",
      " [1. 0. 0. ... 0. 0. 0.]\n",
      " [0. 0. 0. ... 0. 0. 0.]\n",
      " ...\n",
      " [0. 0. 0. ... 0. 0. 0.]\n",
      " [0. 0. 0. ... 0. 0. 0.]\n",
      " [0. 0. 0. ... 0. 1. 0.]]\n",
      "(60000, 10)\n",
      "\n",
      "Y test after encoding :-\n",
      "[[0. 0. 0. ... 1. 0. 0.]\n",
      " [0. 0. 1. ... 0. 0. 0.]\n",
      " [0. 1. 0. ... 0. 0. 0.]\n",
      " ...\n",
      " [0. 0. 0. ... 0. 0. 0.]\n",
      " [0. 0. 0. ... 0. 0. 0.]\n",
      " [0. 0. 0. ... 0. 0. 0.]]\n",
      "(10000, 10)\n"
     ]
    }
   ],
   "source": [
    "print('One hot encoding to Y train and test :-')\n",
    "print()\n",
    "\n",
    "y_train = to_categorical(y_train)\n",
    "y_test = to_categorical(y_test)\n",
    "\n",
    "print('Y train after encoding :-')\n",
    "print(y_train)\n",
    "print(y_train.shape)\n",
    "print()\n",
    "print('Y test after encoding :-')\n",
    "print(y_test)\n",
    "print(y_test.shape)\n",
    "\n",
    "num_classes = y_test.shape[1] # number of categories"
   ]
  },
  {
   "cell_type": "markdown",
   "id": "31a494f7-8bb2-4971-a5b7-a8d17b391958",
   "metadata": {},
   "source": [
    "Next, let's define a function that creates our model. Let's start with one set of convolutional and pooling layers.\n"
   ]
  },
  {
   "cell_type": "code",
   "execution_count": 72,
   "id": "762b15ce-04b4-4b52-91f4-5531b095adc2",
   "metadata": {},
   "outputs": [],
   "source": [
    "def convolutional_model():\n",
    "    \n",
    "    # create model\n",
    "    model = Sequential()\n",
    "    \n",
    "    model.add(Conv2D(16, (5, 5), strides=(1, 1), activation='relu', input_shape=(28, 28, 1)))\n",
    "    model.add(MaxPooling2D(pool_size=(2, 2), strides=(2, 2)))\n",
    "    \n",
    "    model.add(Flatten())\n",
    "    model.add(Dense(100, activation='relu'))\n",
    "    model.add(Dense(num_classes, activation='softmax'))\n",
    "    \n",
    "    # compile model\n",
    "    model.compile(optimizer='adam', loss='categorical_crossentropy',  metrics=['accuracy'])\n",
    "    return model"
   ]
  },
  {
   "cell_type": "markdown",
   "id": "adcd9352-8259-49e2-ac90-810ed08838f4",
   "metadata": {},
   "source": [
    "Finally, let's call the function to create the model, and then let's train it and evaluate it.\n"
   ]
  },
  {
   "cell_type": "code",
   "execution_count": 73,
   "id": "7bc53a31-62d6-4bbc-b622-2c22b7e45c9f",
   "metadata": {},
   "outputs": [
    {
     "name": "stdout",
     "output_type": "stream",
     "text": [
      "Epoch 1/10\n",
      "300/300 - 6s - loss: 0.2737 - accuracy: 0.9275 - val_loss: 0.0921 - val_accuracy: 0.9727 - 6s/epoch - 19ms/step\n",
      "Epoch 2/10\n",
      "300/300 - 5s - loss: 0.0784 - accuracy: 0.9773 - val_loss: 0.0588 - val_accuracy: 0.9807 - 5s/epoch - 16ms/step\n",
      "Epoch 3/10\n",
      "300/300 - 5s - loss: 0.0549 - accuracy: 0.9836 - val_loss: 0.0465 - val_accuracy: 0.9841 - 5s/epoch - 16ms/step\n",
      "Epoch 4/10\n",
      "300/300 - 5s - loss: 0.0432 - accuracy: 0.9872 - val_loss: 0.0458 - val_accuracy: 0.9843 - 5s/epoch - 16ms/step\n",
      "Epoch 5/10\n",
      "300/300 - 5s - loss: 0.0356 - accuracy: 0.9894 - val_loss: 0.0403 - val_accuracy: 0.9858 - 5s/epoch - 16ms/step\n",
      "Epoch 6/10\n",
      "300/300 - 5s - loss: 0.0287 - accuracy: 0.9914 - val_loss: 0.0387 - val_accuracy: 0.9867 - 5s/epoch - 16ms/step\n",
      "Epoch 7/10\n",
      "300/300 - 5s - loss: 0.0243 - accuracy: 0.9927 - val_loss: 0.0379 - val_accuracy: 0.9858 - 5s/epoch - 16ms/step\n",
      "Epoch 8/10\n",
      "300/300 - 5s - loss: 0.0204 - accuracy: 0.9939 - val_loss: 0.0402 - val_accuracy: 0.9859 - 5s/epoch - 16ms/step\n",
      "Epoch 9/10\n",
      "300/300 - 5s - loss: 0.0168 - accuracy: 0.9951 - val_loss: 0.0361 - val_accuracy: 0.9884 - 5s/epoch - 16ms/step\n",
      "Epoch 10/10\n",
      "300/300 - 5s - loss: 0.0139 - accuracy: 0.9957 - val_loss: 0.0414 - val_accuracy: 0.9862 - 5s/epoch - 16ms/step\n",
      "Accuracy: 0.9861999750137329 \n",
      " Error: 1.380002498626709\n"
     ]
    }
   ],
   "source": [
    "# build the model\n",
    "model = convolutional_model()\n",
    "\n",
    "# fit the model\n",
    "model.fit(X_train, y_train, validation_data=(X_test, y_test), epochs=10, batch_size=200, verbose=2)\n",
    "\n",
    "# evaluate the model\n",
    "scores = model.evaluate(X_test, y_test, verbose=0)\n",
    "print(\"Accuracy: {} \\n Error: {}\".format(scores[1], 100-scores[1]*100))"
   ]
  },
  {
   "cell_type": "markdown",
   "id": "7fda50d4-2b28-4a03-95d3-a78f6e289992",
   "metadata": {},
   "source": [
    "------------------------------------------\n"
   ]
  },
  {
   "cell_type": "markdown",
   "id": "0b4bcd75-801e-4ccb-b268-a35d3249d39c",
   "metadata": {},
   "source": [
    "<a id='item43'></a>\n"
   ]
  },
  {
   "cell_type": "markdown",
   "id": "dacc665a-cf08-4b37-93e9-51b24a3c5f65",
   "metadata": {},
   "source": [
    "## Convolutional Layer with two sets of convolutional and pooling layers\n"
   ]
  },
  {
   "cell_type": "markdown",
   "id": "89123c1f-18ba-402b-8d14-83ed04bac39a",
   "metadata": {},
   "source": [
    "Let's redefine our convolutional model so that it has two convolutional and pooling layers instead of just one layer of each.\n"
   ]
  },
  {
   "cell_type": "code",
   "execution_count": 74,
   "id": "e4b3fb97-94a5-421b-80c1-8c4fe4134eb2",
   "metadata": {},
   "outputs": [],
   "source": [
    "def convolutional_model():\n",
    "    \n",
    "    # create model\n",
    "    model = Sequential()\n",
    "    \n",
    "    model.add(Conv2D(16, (5, 5), activation='relu', input_shape=(28, 28, 1)))\n",
    "    model.add(MaxPooling2D(pool_size=(2, 2), strides=(2, 2)))\n",
    "    \n",
    "    model.add(Conv2D(8, (2, 2), activation='relu'))\n",
    "    model.add(MaxPooling2D(pool_size=(2, 2), strides=(2, 2)))\n",
    "    \n",
    "    model.add(Flatten())\n",
    "    model.add(Dense(100, activation='relu'))\n",
    "    model.add(Dense(num_classes, activation='softmax'))\n",
    "    \n",
    "    # Compile model\n",
    "    model.compile(optimizer='adam', loss='categorical_crossentropy',  metrics=['accuracy'])\n",
    "    return model"
   ]
  },
  {
   "cell_type": "markdown",
   "id": "90e1050d-e6b1-4a7e-a028-273b119dcc68",
   "metadata": {},
   "source": [
    "Now, let's call the function to create our new convolutional neural network, and then let's train it and evaluate it.\n"
   ]
  },
  {
   "cell_type": "code",
   "execution_count": 75,
   "id": "1c9020f2-a385-4ba5-9923-7fa42be5dd32",
   "metadata": {},
   "outputs": [
    {
     "name": "stdout",
     "output_type": "stream",
     "text": [
      "Epoch 1/10\n",
      "300/300 - 6s - loss: 0.5207 - accuracy: 0.8477 - val_loss: 0.1678 - val_accuracy: 0.9498 - 6s/epoch - 20ms/step\n",
      "Epoch 2/10\n",
      "300/300 - 5s - loss: 0.1296 - accuracy: 0.9610 - val_loss: 0.0819 - val_accuracy: 0.9754 - 5s/epoch - 17ms/step\n",
      "Epoch 3/10\n",
      "300/300 - 5s - loss: 0.0891 - accuracy: 0.9721 - val_loss: 0.0660 - val_accuracy: 0.9801 - 5s/epoch - 17ms/step\n",
      "Epoch 4/10\n",
      "300/300 - 5s - loss: 0.0692 - accuracy: 0.9783 - val_loss: 0.0552 - val_accuracy: 0.9822 - 5s/epoch - 17ms/step\n",
      "Epoch 5/10\n",
      "300/300 - 5s - loss: 0.0574 - accuracy: 0.9826 - val_loss: 0.0471 - val_accuracy: 0.9839 - 5s/epoch - 17ms/step\n",
      "Epoch 6/10\n",
      "300/300 - 5s - loss: 0.0497 - accuracy: 0.9849 - val_loss: 0.0423 - val_accuracy: 0.9853 - 5s/epoch - 17ms/step\n",
      "Epoch 7/10\n",
      "300/300 - 5s - loss: 0.0440 - accuracy: 0.9865 - val_loss: 0.0439 - val_accuracy: 0.9851 - 5s/epoch - 17ms/step\n",
      "Epoch 8/10\n",
      "300/300 - 5s - loss: 0.0405 - accuracy: 0.9872 - val_loss: 0.0420 - val_accuracy: 0.9862 - 5s/epoch - 17ms/step\n",
      "Epoch 9/10\n",
      "300/300 - 5s - loss: 0.0374 - accuracy: 0.9880 - val_loss: 0.0386 - val_accuracy: 0.9870 - 5s/epoch - 17ms/step\n",
      "Epoch 10/10\n",
      "300/300 - 5s - loss: 0.0345 - accuracy: 0.9893 - val_loss: 0.0366 - val_accuracy: 0.9881 - 5s/epoch - 17ms/step\n",
      "Accuracy: 0.988099992275238 \n",
      " Error: 1.1900007724761963\n"
     ]
    }
   ],
   "source": [
    "# build the model\n",
    "model = convolutional_model()\n",
    "\n",
    "# fit the model\n",
    "model.fit(X_train, y_train, validation_data=(X_test, y_test), epochs=10, batch_size=200, verbose=2)\n",
    "\n",
    "# evaluate the model\n",
    "scores = model.evaluate(X_test, y_test, verbose=0)\n",
    "print(\"Accuracy: {} \\n Error: {}\".format(scores[1], 100-scores[1]*100))"
   ]
  },
  {
   "cell_type": "markdown",
   "id": "7b5916c4-33c0-4f2b-8592-f6e030e82837",
   "metadata": {},
   "source": [
    "### Thank you for completing this lab!\n",
    "\n",
    "This notebook was created by [Alex Aklson](https://www.linkedin.com/in/aklson/?utm_medium=Exinfluencer&utm_source=Exinfluencer&utm_content=000026UJ&utm_term=10006555&utm_id=NA-SkillsNetwork-Channel-SkillsNetworkCoursesIBMDeveloperSkillsNetworkDL0101ENSkillsNetwork945-2022-01-01). I hope you found this lab interesting and educational. Feel free to contact me if you have any questions!\n"
   ]
  },
  {
   "cell_type": "markdown",
   "id": "d75c5eb1-532d-480c-947b-c161c7125c7e",
   "metadata": {},
   "source": [
    "\n",
    "## Change Log\n",
    "\n",
    "|  Date (YYYY-MM-DD) |  Version | Changed By  |  Change Description |\n",
    "|---|---|---|---|\n",
    "| 2020-09-21  | 2.0  | Srishti  |  Migrated Lab to Markdown and added to course repo in GitLab |\n",
    "\n",
    "\n",
    "\n",
    "<hr>\n",
    "\n",
    "## <h3 align=\"center\"> © IBM Corporation 2020. All rights reserved. <h3/>\n"
   ]
  },
  {
   "cell_type": "markdown",
   "id": "fed37486-39c4-4a8d-ad63-6cce83855312",
   "metadata": {},
   "source": [
    "This notebook is part of a course on **Coursera** called *Introduction to Deep Learning & Neural Networks with Keras*. If you accessed this notebook outside the course, you can take this course online by clicking [here](https://cocl.us/DL0101EN_Coursera_Week4_LAB1).\n"
   ]
  },
  {
   "cell_type": "markdown",
   "id": "da0bf7af-6309-43e4-bf82-b77f14d5de2c",
   "metadata": {},
   "source": [
    "<hr>\n",
    "\n",
    "Copyright &copy; 2019 [IBM Developer Skills Network](https://cognitiveclass.ai/?utm_medium=dswb&utm_source=bducopyrightlink&utm_content=000026UJ&utm_term=10006555&utm_id=NA-SkillsNetwork-Channel-SkillsNetworkCoursesIBMDeveloperSkillsNetworkDL0101ENSkillsNetwork945-2022-01-01&utm_campaign=bdu). This notebook and its source code are released under the terms of the [MIT License](https://bigdatauniversity.com/mit-license/?utm_medium=Exinfluencer&utm_source=Exinfluencer&utm_content=000026UJ&utm_term=10006555&utm_id=NA-SkillsNetwork-Channel-SkillsNetworkCoursesIBMDeveloperSkillsNetworkDL0101ENSkillsNetwork945-2022-01-01).\n"
   ]
  }
 ],
 "metadata": {
  "kernelspec": {
   "display_name": "Python 3 (ipykernel)",
   "language": "python",
   "name": "python3"
  },
  "language_info": {
   "codemirror_mode": {
    "name": "ipython",
    "version": 3
   },
   "file_extension": ".py",
   "mimetype": "text/x-python",
   "name": "python",
   "nbconvert_exporter": "python",
   "pygments_lexer": "ipython3",
   "version": "3.9.12"
  }
 },
 "nbformat": 4,
 "nbformat_minor": 4
}
